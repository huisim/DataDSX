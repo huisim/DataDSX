{
 "cells": [
  {
   "cell_type": "markdown",
   "metadata": {},
   "source": [
    "<table style=\"border: none\" align=\"left\">\n",
    "   <tr style=\"border: none\">\n",
    "      <th style=\"border: none\"><font face=\"verdana\" size=\"5\" color=\"black\"><b>Use Spark and Python to Predict Customer Churns</b></th>\n",
    "      <th style=\"border: none\"><img src=\"https://github.com/pmservice/customer-satisfaction-prediction/blob/master/app/static/images/ml_icon_gray.png?raw=true\" alt=\"Watson Machine Learning icon\" height=\"40\" width=\"40\"></th>\n",
    "   </tr>\n",
    "</table>"
   ]
  },
  {
   "cell_type": "markdown",
   "metadata": {},
   "source": [
    "This notebook contains steps and code to get data, create a predictive model, and start scoring new data. This notebook introduces commands for getting data and for basic data cleaning and exploration, pipeline creation, model training, model persistance to the Watson Machine Learning repository, model deployment, and scoring.\n",
    "\n",
    "Some familiarity with Python is helpful. This notebook uses Python 3.5 and Apache Spark 2.3.\n",
    "\n",
    "You will use the available data set, **CustomerChurn-WS.csv**, which details anonymous customer and churn information. Use the details of this data set to predict customer churn's risk. \n",
    "\n",
    "## Learning goals\n",
    "\n",
    "You will learn how to:\n",
    "\n",
    "-  Load a CSV file into an Apache Spark DataFrame.\n",
    "-  Explore data.\n",
    "-  Prepare data for training and evaluation.\n",
    "-  Create an Apache Spark machine learning pipeline.\n",
    "-  Train and evaluate a model.\n",
    "-  Store a pipeline and model in Watson Machine Learning (WML) repository.\n",
    "-  Deploy a model for online scoring using the Watson Machine Learning (WML) API.\n",
    "-  Score sample scoring data using the WML API.\n",
    "\n",
    "## Contents\n",
    "\n",
    "This notebook contains the following parts:\n",
    "\n",
    "1.\t[Set up](#setup)\n",
    "2.\t[Load and explore data](#load)\n",
    "3.\t[Create a spark ml model](#model)\n",
    "4.\t[Store the model](#persistence)\n",
    "5.\t[Predict locally](#prediction)\n",
    "6.\t[Deploy and score in a Cloud](#scoring)\n",
    "7.\t[Summary and next steps](#summary)\n",
    "    \n",
    "**If you are new to data science check out this link:** https://developer.ibm.com/articles/ba-intro-data-science-1/"
   ]
  },
  {
   "cell_type": "markdown",
   "metadata": {},
   "source": [
    "<a id=\"setup\"></a>\n",
    "## 1. Set up\n",
    "\n",
    "Before you use the sample code in this notebook, you must perform the following setup tasks:\n",
    "\n",
    "-  Create a <a href=\"https://console.ng.bluemix.net/catalog/services/ibm-watson-machine-learning/\" target=\"_blank\" rel=\"noopener no referrer\">Watson Machine Learning (WML) Service</a> instance (a lite plan is offered and information about how to create the instance is <a href=\"https://dataplatform.ibm.com/docs/content/analyze-data/wml-setup.html\" target=\"_blank\" rel=\"noopener no referrer\">here</a>)\n",
    "-  Make sure that you are using a Spark 2.3 kernel\n",
    "-  Download the **Customer Churn data** (code provided below)"
   ]
  },
  {
   "cell_type": "markdown",
   "metadata": {},
   "source": [
    "<a id=\"load\"></a>\n",
    "## 2. Load and explore data"
   ]
  },
  {
   "cell_type": "markdown",
   "metadata": {},
   "source": [
    "In this section you will load the data as an Apache Spark DataFrame and perform a basic exploration.\n",
    "\n",
    "Load the data to the Spark DataFrame by using *wget* to upload the data to gpfs and then use spark *read* method to read data. "
   ]
  },
  {
   "cell_type": "code",
   "execution_count": 1,
   "metadata": {},
   "outputs": [
    {
     "name": "stdout",
     "output_type": "stream",
     "text": [
      "Waiting for a Spark session to start...\n",
      "Spark Initialization Done! ApplicationId = app-20180920234211-0001\n",
      "Collecting wget\n",
      "Installing collected packages: wget\n",
      "Successfully installed wget-3.2\n",
      "\u001b[33mTarget directory /home/spark/shared/user-libs/python3/wget-3.2.dist-info already exists. Specify --upgrade to force replacement.\u001b[0m\n",
      "\u001b[33mTarget directory /home/spark/shared/user-libs/python3/wget.py already exists. Specify --upgrade to force replacement.\u001b[0m\n",
      "\u001b[33mTarget directory /home/spark/shared/user-libs/python3/__pycache__ already exists. Specify --upgrade to force replacement.\u001b[0m\n"
     ]
    }
   ],
   "source": [
    "# Install wget if you don't already have it.\n",
    "!pip install wget"
   ]
  },
  {
   "cell_type": "code",
   "execution_count": 2,
   "metadata": {},
   "outputs": [
    {
     "name": "stdout",
     "output_type": "stream",
     "text": [
      "CustomerChurn-WS (1).csv\n"
     ]
    }
   ],
   "source": [
    "import wget\n",
    "\n",
    "link_to_data = 'https://raw.githubusercontent.com/huisim/DataDSX/master/CustomerChurn-WS.csv'\n",
    "filename = wget.download(link_to_data)\n",
    "\n",
    "print(filename)"
   ]
  },
  {
   "cell_type": "markdown",
   "metadata": {},
   "source": [
    "The csv file **CustomerChurn-WS.csv** is now availble. Load the file to Apache Spark DataFrame using code below."
   ]
  },
  {
   "cell_type": "code",
   "execution_count": 3,
   "metadata": {},
   "outputs": [],
   "source": [
    "#spark = SparkSession.builder.getOrCreate()\n",
    "\n",
    "df_data = spark.read\\\n",
    "  .format('org.apache.spark.sql.execution.datasources.csv.CSVFileFormat')\\\n",
    "  .option('header', 'true')\\\n",
    "  .option('inferSchema', 'true')\\\n",
    "  .load(filename)"
   ]
  },
  {
   "cell_type": "markdown",
   "metadata": {},
   "source": [
    "Explore the loaded data by using the following Apache Spark DataFrame methods:\n",
    "-  print schema\n",
    "-  remove spaces within column names\n",
    "-  print top 20 records\n",
    "-  count all records"
   ]
  },
  {
   "cell_type": "code",
   "execution_count": 4,
   "metadata": {
    "scrolled": true
   },
   "outputs": [
    {
     "name": "stdout",
     "output_type": "stream",
     "text": [
      "root\n",
      " |-- ID: integer (nullable = true)\n",
      " |-- Gender: string (nullable = true)\n",
      " |-- Status: string (nullable = true)\n",
      " |-- Est Income: double (nullable = true)\n",
      " |-- Age: integer (nullable = true)\n",
      " |-- LocalBilltype: string (nullable = true)\n",
      " |-- LongDistanceBilltype: string (nullable = true)\n",
      " |-- Usage: double (nullable = true)\n",
      " |-- CHURN: string (nullable = true)\n",
      "\n"
     ]
    }
   ],
   "source": [
    "df_data.printSchema()"
   ]
  },
  {
   "cell_type": "markdown",
   "metadata": {},
   "source": [
    "As you can see, the data contains 9 fields. CHURN field is the one you would like to predict (label)."
   ]
  },
  {
   "cell_type": "code",
   "execution_count": 5,
   "metadata": {},
   "outputs": [],
   "source": [
    "# Remove spaces from columns names, it's an example of data preparation that you may have to do before creating a model\n",
    "df_data = df_data.withColumnRenamed(\"Est Income\", \"EstIncome\")"
   ]
  },
  {
   "cell_type": "code",
   "execution_count": 6,
   "metadata": {},
   "outputs": [
    {
     "name": "stdout",
     "output_type": "stream",
     "text": [
      "+---+------+------+---------+---+-------------+--------------------+------+-----+\n",
      "| ID|Gender|Status|EstIncome|Age|LocalBilltype|LongDistanceBilltype| Usage|CHURN|\n",
      "+---+------+------+---------+---+-------------+--------------------+------+-----+\n",
      "|  1|     F|     S|  38000.0| 24|       Budget|      Intnl_discount|229.64|    T|\n",
      "|  6|     M|     M|  29616.0| 49|    FreeLocal|            Standard| 75.29|    T|\n",
      "|  8|     M|     M|  19732.8| 51|    FreeLocal|            Standard| 47.25|    T|\n",
      "| 11|     M|     S|    96.33| 56|       Budget|            Standard| 59.01|    T|\n",
      "| 14|     F|     M|  52004.8| 25|       Budget|      Intnl_discount| 28.14|    T|\n",
      "| 17|     M|     M|  53010.8| 19|    FreeLocal|            Standard| 58.87|    T|\n",
      "| 18|     M|     M|  75004.5| 65|       Budget|      Intnl_discount| 58.72|    T|\n",
      "| 21|     M|     M|  19749.3| 60|       Budget|            Standard| 34.17|    T|\n",
      "| 22|     M|     S|  57626.9| 44|       Budget|            Standard| 48.35|    T|\n",
      "| 23|     M|     M|  20078.0| 33|       Budget|      Intnl_discount| 15.98|    T|\n",
      "| 24|     F|     M|  47902.0| 26|    FreeLocal|            Standard| 72.31|    T|\n",
      "| 29|     M|     M|  7545.96| 17|       Budget|            Standard|200.75|    T|\n",
      "| 35|     F|     S|  78851.3| 48|    FreeLocal|            Standard| 29.04|    T|\n",
      "| 36|     F|     S|  17540.7| 63|       Budget|            Standard|  36.2|    T|\n",
      "| 37|     F|     M|  83891.9| 61|       Budget|            Standard|  74.4|    T|\n",
      "| 38|     F|     M|  28220.8| 39|    FreeLocal|            Standard| 38.95|    T|\n",
      "| 40|     F|     S|  28589.1| 16|    FreeLocal|            Standard|100.28|    T|\n",
      "| 42|     F|     M|  5237.63| 49|       Budget|            Standard| 78.02|    T|\n",
      "| 45|     M|     S|  89459.9| 53|    FreeLocal|            Standard| 36.05|    T|\n",
      "| 48|     F|     S|  13576.5| 39|       Budget|            Standard| 40.49|    T|\n",
      "+---+------+------+---------+---+-------------+--------------------+------+-----+\n",
      "only showing top 20 rows\n",
      "\n"
     ]
    }
   ],
   "source": [
    "# Print out the top 20 records\n",
    "df_data.show()"
   ]
  },
  {
   "cell_type": "markdown",
   "metadata": {},
   "source": [
    "As you can see, the space in the 'Est Income' has been removed. The new column name is 'EstIncome'. "
   ]
  },
  {
   "cell_type": "code",
   "execution_count": 8,
   "metadata": {},
   "outputs": [
    {
     "name": "stdout",
     "output_type": "stream",
     "text": [
      "Number of records: 2066\n"
     ]
    }
   ],
   "source": [
    "# Count all records\n",
    "print(\"Number of records: \" + str(df_data.count()))"
   ]
  },
  {
   "cell_type": "markdown",
   "metadata": {},
   "source": [
    "As per expected, the data set contains 2066 records.\n",
    "\n",
    "The next step provides a quick way for data scientist to review and evaluate the quality of data before modeling. \n",
    "Data preparation and data understanding are the most time-consuming tasks in the data mining process.  "
   ]
  },
  {
   "cell_type": "code",
   "execution_count": 9,
   "metadata": {},
   "outputs": [
    {
     "data": {
      "text/html": [
       "<div>\n",
       "<style scoped>\n",
       "    .dataframe tbody tr th:only-of-type {\n",
       "        vertical-align: middle;\n",
       "    }\n",
       "\n",
       "    .dataframe tbody tr th {\n",
       "        vertical-align: top;\n",
       "    }\n",
       "\n",
       "    .dataframe thead th {\n",
       "        text-align: right;\n",
       "    }\n",
       "</style>\n",
       "<table border=\"1\" class=\"dataframe\">\n",
       "  <thead>\n",
       "    <tr style=\"text-align: right;\">\n",
       "      <th></th>\n",
       "      <th>ID</th>\n",
       "      <th>EstIncome</th>\n",
       "      <th>Age</th>\n",
       "      <th>Usage</th>\n",
       "    </tr>\n",
       "  </thead>\n",
       "  <tbody>\n",
       "    <tr>\n",
       "      <th>count</th>\n",
       "      <td>2066.000000</td>\n",
       "      <td>2066.000000</td>\n",
       "      <td>2066.000000</td>\n",
       "      <td>2066.000000</td>\n",
       "    </tr>\n",
       "    <tr>\n",
       "      <th>mean</th>\n",
       "      <td>1902.820910</td>\n",
       "      <td>51514.070465</td>\n",
       "      <td>42.802033</td>\n",
       "      <td>75.907696</td>\n",
       "    </tr>\n",
       "    <tr>\n",
       "      <th>std</th>\n",
       "      <td>1094.820556</td>\n",
       "      <td>30805.652721</td>\n",
       "      <td>14.919932</td>\n",
       "      <td>59.787475</td>\n",
       "    </tr>\n",
       "    <tr>\n",
       "      <th>min</th>\n",
       "      <td>1.000000</td>\n",
       "      <td>96.330000</td>\n",
       "      <td>12.000000</td>\n",
       "      <td>0.680000</td>\n",
       "    </tr>\n",
       "    <tr>\n",
       "      <th>25%</th>\n",
       "      <td>973.250000</td>\n",
       "      <td>21021.600000</td>\n",
       "      <td>30.250000</td>\n",
       "      <td>34.190000</td>\n",
       "    </tr>\n",
       "    <tr>\n",
       "      <th>50%</th>\n",
       "      <td>1880.500000</td>\n",
       "      <td>55860.000000</td>\n",
       "      <td>46.000000</td>\n",
       "      <td>57.110000</td>\n",
       "    </tr>\n",
       "    <tr>\n",
       "      <th>75%</th>\n",
       "      <td>2833.750000</td>\n",
       "      <td>78000.000000</td>\n",
       "      <td>54.000000</td>\n",
       "      <td>107.020000</td>\n",
       "    </tr>\n",
       "    <tr>\n",
       "      <th>max</th>\n",
       "      <td>3825.000000</td>\n",
       "      <td>120000.000000</td>\n",
       "      <td>77.000000</td>\n",
       "      <td>361.880000</td>\n",
       "    </tr>\n",
       "  </tbody>\n",
       "</table>\n",
       "</div>"
      ],
      "text/plain": [
       "                ID      EstIncome          Age        Usage\n",
       "count  2066.000000    2066.000000  2066.000000  2066.000000\n",
       "mean   1902.820910   51514.070465    42.802033    75.907696\n",
       "std    1094.820556   30805.652721    14.919932    59.787475\n",
       "min       1.000000      96.330000    12.000000     0.680000\n",
       "25%     973.250000   21021.600000    30.250000    34.190000\n",
       "50%    1880.500000   55860.000000    46.000000    57.110000\n",
       "75%    2833.750000   78000.000000    54.000000   107.020000\n",
       "max    3825.000000  120000.000000    77.000000   361.880000"
      ]
     },
     "execution_count": 9,
     "metadata": {},
     "output_type": "execute_result"
    }
   ],
   "source": [
    "# Statistics summary \n",
    "df_data.toPandas().describe()"
   ]
  },
  {
   "cell_type": "markdown",
   "metadata": {},
   "source": [
    "<a id=\"model\"></a>\n",
    "## 3. Create an Apache Spark machine learning model\n",
    "\n",
    "In this section you will learn how to:\n",
    "\n",
    "- [3.1 Prepare data](#prep)\n",
    "- [3.2 Create an Apache Spark machine learning pipeline](#pipe)\n",
    "- [3.3 Train a model](#train)\n"
   ]
  },
  {
   "cell_type": "markdown",
   "metadata": {},
   "source": [
    "**For more information on Apache Spark machine learning check out the following links:**\n",
    "- https://spark.apache.org/docs/2.3.0/ml-guide.html\n",
    "- https://spark.apache.org/docs/2.3.0/ml-pipeline.html"
   ]
  },
  {
   "cell_type": "markdown",
   "metadata": {},
   "source": [
    "### 3.1 Prepare data<a id=\"prep\"></a>\n",
    "\n",
    "In this subsection you will split your data into: \n",
    "- train data set\n",
    "- test data set\n",
    "- predict data set"
   ]
  },
  {
   "cell_type": "code",
   "execution_count": 10,
   "metadata": {},
   "outputs": [
    {
     "name": "stdout",
     "output_type": "stream",
     "text": [
      "Number of training records: 1431\n",
      "Number of testing records : 407\n",
      "Number of prediction records : 228\n"
     ]
    }
   ],
   "source": [
    "# Split data into train(70%), test(20%) and predict(10%) datasets\n",
    "train_data, test_data, predict_data = df_data.randomSplit([0.7,0.2,0.1], seed=6)\n",
    "train_data.cache()\n",
    "test_data.cache()\n",
    "predict_data.cache()\n",
    "\n",
    "print(\"Number of training records: \" + str(train_data.count()))\n",
    "print(\"Number of testing records : \" + str(test_data.count()))\n",
    "print(\"Number of prediction records : \" + str(predict_data.count()))"
   ]
  },
  {
   "cell_type": "markdown",
   "metadata": {},
   "source": [
    "As you can see your data has been successfully split into three data sets: \n",
    "\n",
    "-  The train data set, which is the largest group, is used for training.\n",
    "-  The test data set will be used for model evaluation and is used to test the assumptions of the model.\n",
    "-  The predict data set will be used for prediction."
   ]
  },
  {
   "cell_type": "markdown",
   "metadata": {},
   "source": [
    "### 3.2 Create the pipeline<a id=\"pipe\"></a>"
   ]
  },
  {
   "cell_type": "markdown",
   "metadata": {},
   "source": [
    "In this section you will create an Apache Spark machine learning pipeline and then train the model."
   ]
  },
  {
   "cell_type": "markdown",
   "metadata": {},
   "source": [
    "In the first step, you need to import the Apache Spark machine learning packages that will be needed in the subsequent steps."
   ]
  },
  {
   "cell_type": "code",
   "execution_count": 11,
   "metadata": {},
   "outputs": [],
   "source": [
    "from pyspark.ml.feature import OneHotEncoder, StringIndexer, IndexToString, VectorAssembler\n",
    "from pyspark.ml.classification import RandomForestClassifier\n",
    "from pyspark.ml.evaluation import MulticlassClassificationEvaluator\n",
    "from pyspark.ml import Pipeline, Model"
   ]
  },
  {
   "cell_type": "markdown",
   "metadata": {},
   "source": [
    "In the following step, use the StringIndexer transformer to convert all the string fields to numeric ones."
   ]
  },
  {
   "cell_type": "code",
   "execution_count": 12,
   "metadata": {},
   "outputs": [],
   "source": [
    "# Prepare string variables so that they can be used by the decision tree algorithm\n",
    "# StringIndexer encodes a string column of labels to a column of label indices\n",
    "SI1 = StringIndexer(inputCol='Gender', outputCol='GenderEncoded')\n",
    "SI2 = StringIndexer(inputCol='Status',outputCol='StatusEncoded')\n",
    "SI3 = StringIndexer(inputCol='LocalBilltype',outputCol='LocalBilltypeEncoded')\n",
    "SI4 = StringIndexer(inputCol='LongDistanceBilltype',outputCol='LongDistanceBilltypeEncoded')\n",
    "labelIndexer = StringIndexer(inputCol='CHURN', outputCol='label').fit(df_data)\n",
    "\n",
    "# Pipelines API requires that input variables are passed in a vector\n",
    "# In the following step, create a feature vector by combining all features together.\n",
    "assembler = VectorAssembler(inputCols=[\"GenderEncoded\", \"StatusEncoded\", \"LocalBilltypeEncoded\", \\\n",
    "                                       \"LongDistanceBilltypeEncoded\", \"EstIncome\", \"Age\", \"Usage\"], \\\n",
    "                            outputCol=\"features\")"
   ]
  },
  {
   "cell_type": "markdown",
   "metadata": {},
   "source": [
    "Next, define estimators you want to use for classification. Random Forest is used in the following example."
   ]
  },
  {
   "cell_type": "code",
   "execution_count": 13,
   "metadata": {},
   "outputs": [],
   "source": [
    "rf = RandomForestClassifier(labelCol=\"label\", featuresCol=\"features\")"
   ]
  },
  {
   "cell_type": "markdown",
   "metadata": {},
   "source": [
    "Finally, convert the indexed labels back to original labels."
   ]
  },
  {
   "cell_type": "code",
   "execution_count": 14,
   "metadata": {},
   "outputs": [],
   "source": [
    "labelConverter = IndexToString(inputCol=\"prediction\", outputCol=\"predictedLabel\", labels=labelIndexer.labels)"
   ]
  },
  {
   "cell_type": "markdown",
   "metadata": {},
   "source": [
    "Now build the pipeline. A pipeline consists of transformers and an estimator."
   ]
  },
  {
   "cell_type": "code",
   "execution_count": 15,
   "metadata": {},
   "outputs": [],
   "source": [
    "pipeline_rf = Pipeline(stages=[SI1,SI2,SI3,SI4,labelIndexer, assembler, rf, labelConverter])"
   ]
  },
  {
   "cell_type": "markdown",
   "metadata": {},
   "source": [
    "### 3.3 Train the model<a id=\"train\"></a>"
   ]
  },
  {
   "cell_type": "markdown",
   "metadata": {},
   "source": [
    "Now, you can train your Random Forest model by using the previously defined **pipeline** and **train data**."
   ]
  },
  {
   "cell_type": "code",
   "execution_count": 16,
   "metadata": {},
   "outputs": [
    {
     "name": "stdout",
     "output_type": "stream",
     "text": [
      "root\n",
      " |-- ID: integer (nullable = true)\n",
      " |-- Gender: string (nullable = true)\n",
      " |-- Status: string (nullable = true)\n",
      " |-- EstIncome: double (nullable = true)\n",
      " |-- Age: integer (nullable = true)\n",
      " |-- LocalBilltype: string (nullable = true)\n",
      " |-- LongDistanceBilltype: string (nullable = true)\n",
      " |-- Usage: double (nullable = true)\n",
      " |-- CHURN: string (nullable = true)\n",
      "\n"
     ]
    }
   ],
   "source": [
    "train_data.printSchema()"
   ]
  },
  {
   "cell_type": "code",
   "execution_count": 17,
   "metadata": {},
   "outputs": [],
   "source": [
    "model_rf = pipeline_rf.fit(train_data)"
   ]
  },
  {
   "cell_type": "code",
   "execution_count": 18,
   "metadata": {},
   "outputs": [
    {
     "data": {
      "text/plain": [
       "DataFrame[ID: int, Gender: string, Status: string, EstIncome: double, Age: int, LocalBilltype: string, LongDistanceBilltype: string, Usage: double, CHURN: string, GenderEncoded: double, StatusEncoded: double, LocalBilltypeEncoded: double, LongDistanceBilltypeEncoded: double, label: double, features: vector, rawPrediction: vector, probability: vector, prediction: double, predictedLabel: string]"
      ]
     },
     "execution_count": 18,
     "metadata": {},
     "output_type": "execute_result"
    }
   ],
   "source": [
    "model_rf.transform(test_data)"
   ]
  },
  {
   "cell_type": "markdown",
   "metadata": {},
   "source": [
    "You can check your **model accuracy** now. Use **test data** to evaluate the model."
   ]
  },
  {
   "cell_type": "code",
   "execution_count": 19,
   "metadata": {},
   "outputs": [
    {
     "data": {
      "text/html": [
       "<div>\n",
       "<style scoped>\n",
       "    .dataframe tbody tr th:only-of-type {\n",
       "        vertical-align: middle;\n",
       "    }\n",
       "\n",
       "    .dataframe tbody tr th {\n",
       "        vertical-align: top;\n",
       "    }\n",
       "\n",
       "    .dataframe thead th {\n",
       "        text-align: right;\n",
       "    }\n",
       "</style>\n",
       "<table border=\"1\" class=\"dataframe\">\n",
       "  <thead>\n",
       "    <tr style=\"text-align: right;\">\n",
       "      <th></th>\n",
       "      <th>ID</th>\n",
       "      <th>CHURN</th>\n",
       "      <th>label</th>\n",
       "      <th>predictedLabel</th>\n",
       "      <th>prediction</th>\n",
       "      <th>probability</th>\n",
       "    </tr>\n",
       "  </thead>\n",
       "  <tbody>\n",
       "    <tr>\n",
       "      <th>0</th>\n",
       "      <td>6</td>\n",
       "      <td>T</td>\n",
       "      <td>1.0</td>\n",
       "      <td>F</td>\n",
       "      <td>0.0</td>\n",
       "      <td>[0.5785767623969055, 0.4214232376030946]</td>\n",
       "    </tr>\n",
       "    <tr>\n",
       "      <th>1</th>\n",
       "      <td>21</td>\n",
       "      <td>T</td>\n",
       "      <td>1.0</td>\n",
       "      <td>F</td>\n",
       "      <td>0.0</td>\n",
       "      <td>[0.6769011031529951, 0.323098896847005]</td>\n",
       "    </tr>\n",
       "    <tr>\n",
       "      <th>2</th>\n",
       "      <td>22</td>\n",
       "      <td>T</td>\n",
       "      <td>1.0</td>\n",
       "      <td>F</td>\n",
       "      <td>0.0</td>\n",
       "      <td>[0.6719045383276748, 0.3280954616723252]</td>\n",
       "    </tr>\n",
       "    <tr>\n",
       "      <th>3</th>\n",
       "      <td>29</td>\n",
       "      <td>T</td>\n",
       "      <td>1.0</td>\n",
       "      <td>F</td>\n",
       "      <td>0.0</td>\n",
       "      <td>[0.695340897847493, 0.304659102152507]</td>\n",
       "    </tr>\n",
       "    <tr>\n",
       "      <th>4</th>\n",
       "      <td>79</td>\n",
       "      <td>T</td>\n",
       "      <td>1.0</td>\n",
       "      <td>F</td>\n",
       "      <td>0.0</td>\n",
       "      <td>[0.5190534205401753, 0.4809465794598246]</td>\n",
       "    </tr>\n",
       "    <tr>\n",
       "      <th>5</th>\n",
       "      <td>84</td>\n",
       "      <td>T</td>\n",
       "      <td>1.0</td>\n",
       "      <td>T</td>\n",
       "      <td>1.0</td>\n",
       "      <td>[0.4191694062245329, 0.5808305937754671]</td>\n",
       "    </tr>\n",
       "  </tbody>\n",
       "</table>\n",
       "</div>"
      ],
      "text/plain": [
       "   ID CHURN  label predictedLabel  prediction  \\\n",
       "0   6     T    1.0              F         0.0   \n",
       "1  21     T    1.0              F         0.0   \n",
       "2  22     T    1.0              F         0.0   \n",
       "3  29     T    1.0              F         0.0   \n",
       "4  79     T    1.0              F         0.0   \n",
       "5  84     T    1.0              T         1.0   \n",
       "\n",
       "                                probability  \n",
       "0  [0.5785767623969055, 0.4214232376030946]  \n",
       "1   [0.6769011031529951, 0.323098896847005]  \n",
       "2  [0.6719045383276748, 0.3280954616723252]  \n",
       "3    [0.695340897847493, 0.304659102152507]  \n",
       "4  [0.5190534205401753, 0.4809465794598246]  \n",
       "5  [0.4191694062245329, 0.5808305937754671]  "
      ]
     },
     "execution_count": 19,
     "metadata": {},
     "output_type": "execute_result"
    }
   ],
   "source": [
    "results_rf = model_rf.transform(test_data)\n",
    "results_rf =results_rf.select(results_rf[\"ID\"],results_rf[\"CHURN\"],results_rf[\"label\"],results_rf[\"predictedLabel\"],results_rf[\"prediction\"],results_rf[\"probability\"])\n",
    "results_rf.toPandas().head(6)"
   ]
  },
  {
   "cell_type": "code",
   "execution_count": 20,
   "metadata": {},
   "outputs": [
    {
     "data": {
      "text/plain": [
       "'Precision model = 0.61.'"
      ]
     },
     "execution_count": 20,
     "metadata": {},
     "output_type": "execute_result"
    }
   ],
   "source": [
    "# Model Evaluation\n",
    "'Precision model = {:.2f}.'.format(results_rf.filter(results_rf.label == results_rf.prediction).count() / float(results_rf.count()))"
   ]
  },
  {
   "cell_type": "code",
   "execution_count": 21,
   "metadata": {},
   "outputs": [
    {
     "data": {
      "text/plain": [
       "'Area under ROC curve = 0.51.'"
      ]
     },
     "execution_count": 21,
     "metadata": {},
     "output_type": "execute_result"
    }
   ],
   "source": [
    "from pyspark.ml.evaluation import BinaryClassificationEvaluator\n",
    "\n",
    "# Evaluate model\n",
    "evaluator = BinaryClassificationEvaluator(rawPredictionCol=\"prediction\", labelCol=\"label\", metricName=\"areaUnderROC\")\n",
    "'Area under ROC curve = {:.2f}.'.format(evaluator.evaluate(results_rf))"
   ]
  },
  {
   "cell_type": "markdown",
   "metadata": {
    "collapsed": true
   },
   "source": [
    "You can tune your model now to achieve better accuracy. For simplicity, the tuning example is omitted in this example."
   ]
  },
  {
   "cell_type": "markdown",
   "metadata": {
    "collapsed": true
   },
   "source": [
    "<a id=\"persistence\"></a>\n",
    "## 4. Store the model in the WML repository"
   ]
  },
  {
   "cell_type": "markdown",
   "metadata": {},
   "source": [
    "In this section you will learn how to use Python client libraries to store your pipeline and model in WML repository.\n",
    "\n",
    "- [4.1 Import the libraries](#lib)\n",
    "- [4.2 Save pipeline and model](#save)\n",
    "- [4.3 Load the model](#load)"
   ]
  },
  {
   "cell_type": "markdown",
   "metadata": {},
   "source": [
    "### 4.1 Import the libraries<a id=\"lib\"></a>"
   ]
  },
  {
   "cell_type": "markdown",
   "metadata": {
    "collapsed": true
   },
   "source": [
    "First, you must install and import the `watson-machine-learning-client` libraries.\n",
    "\n",
    "**Note**: Python 3.5 and Apache Spark 2.3 is required."
   ]
  },
  {
   "cell_type": "code",
   "execution_count": 22,
   "metadata": {},
   "outputs": [],
   "source": [
    "!rm -rf $PIP_BUILD/watson-machine-learning-client"
   ]
  },
  {
   "cell_type": "code",
   "execution_count": 23,
   "metadata": {},
   "outputs": [
    {
     "name": "stdout",
     "output_type": "stream",
     "text": [
      "Collecting watson-machine-learning-client\n",
      "  Using cached https://files.pythonhosted.org/packages/b0/53/6bdafebda644e2245fc860ea99300104523665203fc18f1af18bf5124e31/watson_machine_learning_client-1.0.328-py3-none-any.whl\n",
      "Collecting requests (from watson-machine-learning-client)\n",
      "  Using cached https://files.pythonhosted.org/packages/65/47/7e02164a2a3db50ed6d8a6ab1d6d60b69c4c3fdf57a284257925dfc12bda/requests-2.19.1-py2.py3-none-any.whl\n",
      "Collecting lomond (from watson-machine-learning-client)\n",
      "  Using cached https://files.pythonhosted.org/packages/24/11/8968863167de09e464672010b59b8e8848bb142c49538711cd3e24c07c59/lomond-0.3.2-py2.py3-none-any.whl\n",
      "Collecting tabulate (from watson-machine-learning-client)\n",
      "Collecting certifi (from watson-machine-learning-client)\n",
      "  Using cached https://files.pythonhosted.org/packages/df/f7/04fee6ac349e915b82171f8e23cee63644d83663b34c539f7a09aed18f9e/certifi-2018.8.24-py2.py3-none-any.whl\n",
      "Collecting pandas (from watson-machine-learning-client)\n",
      "  Using cached https://files.pythonhosted.org/packages/5d/d4/6e9c56a561f1d27407bf29318ca43f36ccaa289271b805a30034eb3a8ec4/pandas-0.23.4-cp35-cp35m-manylinux1_x86_64.whl\n",
      "Collecting tqdm (from watson-machine-learning-client)\n",
      "  Using cached https://files.pythonhosted.org/packages/79/43/19c9fee28110cd47f73e6bc596394337fe9f3e5825b4de402bbf30b3beb5/tqdm-4.26.0-py2.py3-none-any.whl\n",
      "Collecting ibm-cos-sdk (from watson-machine-learning-client)\n",
      "Collecting urllib3 (from watson-machine-learning-client)\n",
      "  Using cached https://files.pythonhosted.org/packages/bd/c9/6fdd990019071a4a32a5e7cb78a1d92c53851ef4f56f62a3486e6a7d8ffb/urllib3-1.23-py2.py3-none-any.whl\n",
      "Collecting idna<2.8,>=2.5 (from requests->watson-machine-learning-client)\n",
      "  Using cached https://files.pythonhosted.org/packages/4b/2a/0276479a4b3caeb8a8c1af2f8e4355746a97fab05a372e4a2c6a6b876165/idna-2.7-py2.py3-none-any.whl\n",
      "Collecting chardet<3.1.0,>=3.0.2 (from requests->watson-machine-learning-client)\n",
      "  Using cached https://files.pythonhosted.org/packages/bc/a9/01ffebfb562e4274b6487b4bb1ddec7ca55ec7510b22e4c51f14098443b8/chardet-3.0.4-py2.py3-none-any.whl\n",
      "Collecting six>=1.10.0 (from lomond->watson-machine-learning-client)\n",
      "  Using cached https://files.pythonhosted.org/packages/67/4b/141a581104b1f6397bfa78ac9d43d8ad29a7ca43ea90a2d863fe3056e86a/six-1.11.0-py2.py3-none-any.whl\n",
      "Collecting pytz>=2011k (from pandas->watson-machine-learning-client)\n",
      "  Using cached https://files.pythonhosted.org/packages/30/4e/27c34b62430286c6d59177a0842ed90dc789ce5d1ed740887653b898779a/pytz-2018.5-py2.py3-none-any.whl\n",
      "Collecting python-dateutil>=2.5.0 (from pandas->watson-machine-learning-client)\n",
      "  Using cached https://files.pythonhosted.org/packages/cf/f5/af2b09c957ace60dcfac112b669c45c8c97e32f94aa8b56da4c6d1682825/python_dateutil-2.7.3-py2.py3-none-any.whl\n",
      "Collecting numpy>=1.9.0 (from pandas->watson-machine-learning-client)\n",
      "  Using cached https://files.pythonhosted.org/packages/0a/fa/afc1dc818589c9fd36a53f78999f2b5bd88bd5b167eb7d87fb56b565c185/numpy-1.15.1-cp35-cp35m-manylinux1_x86_64.whl\n",
      "Collecting ibm-cos-sdk-core==2.*,>=2.0.0 (from ibm-cos-sdk->watson-machine-learning-client)\n",
      "Collecting ibm-cos-sdk-s3transfer==2.*,>=2.0.0 (from ibm-cos-sdk->watson-machine-learning-client)\n",
      "Collecting jmespath<1.0.0,>=0.7.1 (from ibm-cos-sdk-core==2.*,>=2.0.0->ibm-cos-sdk->watson-machine-learning-client)\n",
      "  Using cached https://files.pythonhosted.org/packages/b7/31/05c8d001f7f87f0f07289a5fc0fc3832e9a57f2dbd4d3b0fee70e0d51365/jmespath-0.9.3-py2.py3-none-any.whl\n",
      "Collecting docutils>=0.10 (from ibm-cos-sdk-core==2.*,>=2.0.0->ibm-cos-sdk->watson-machine-learning-client)\n",
      "  Using cached https://files.pythonhosted.org/packages/36/fa/08e9e6e0e3cbd1d362c3bbee8d01d0aedb2155c4ac112b19ef3cae8eed8d/docutils-0.14-py3-none-any.whl\n",
      "Installing collected packages: idna, chardet, certifi, urllib3, requests, six, lomond, tabulate, pytz, python-dateutil, numpy, pandas, tqdm, jmespath, docutils, ibm-cos-sdk-core, ibm-cos-sdk-s3transfer, ibm-cos-sdk, watson-machine-learning-client\n",
      "Successfully installed certifi-2018.8.24 chardet-3.0.4 docutils-0.14 ibm-cos-sdk-2.2.0 ibm-cos-sdk-core-2.2.0 ibm-cos-sdk-s3transfer-2.2.0 idna-2.7 jmespath-0.9.3 lomond-0.3.2 numpy-1.15.1 pandas-0.23.4 python-dateutil-2.7.3 pytz-2018.5 requests-2.19.1 six-1.11.0 tabulate-0.8.2 tqdm-4.26.0 urllib3-1.23 watson-machine-learning-client-1.0.328\n",
      "\u001b[31mException:\n",
      "Traceback (most recent call last):\n",
      "  File \"/opt/ibm/conda/miniconda3/lib/python3.5/site-packages/pip/basecommand.py\", line 215, in main\n",
      "    status = self.run(options, args)\n",
      "  File \"/opt/ibm/conda/miniconda3/lib/python3.5/site-packages/pip/commands/install.py\", line 423, in run\n",
      "    shutil.rmtree(target_item_dir)\n",
      "  File \"/opt/ibm/conda/miniconda3/lib/python3.5/shutil.py\", line 480, in rmtree\n",
      "    _rmtree_safe_fd(fd, path, onerror)\n",
      "  File \"/opt/ibm/conda/miniconda3/lib/python3.5/shutil.py\", line 422, in _rmtree_safe_fd\n",
      "    onerror(os.rmdir, fullname, sys.exc_info())\n",
      "  File \"/opt/ibm/conda/miniconda3/lib/python3.5/shutil.py\", line 420, in _rmtree_safe_fd\n",
      "    os.rmdir(name, dir_fd=topfd)\n",
      "OSError: [Errno 39] Directory not empty: 'random'\u001b[0m\n"
     ]
    }
   ],
   "source": [
    "!pip install watson-machine-learning-client --upgrade"
   ]
  },
  {
   "cell_type": "code",
   "execution_count": 24,
   "metadata": {},
   "outputs": [
    {
     "name": "stderr",
     "output_type": "stream",
     "text": [
      "WARNING:watson_machine_learning_client.metanames:'AUTHOR_EMAIL' meta prop is deprecated. It will be ignored.\n"
     ]
    }
   ],
   "source": [
    "from watson_machine_learning_client import WatsonMachineLearningAPIClient"
   ]
  },
  {
   "cell_type": "markdown",
   "metadata": {},
   "source": [
    "Authenticate to the Watson Machine Learning service on IBM Cloud.\n",
    "\n",
    "**Tip**: Authentication information (your credentials) can be found in the <a href=\"https://console.bluemix.net/docs/services/service_credentials.html#service_credentials\" target=\"_blank\" rel=\"noopener no referrer\">Service credentials</a> tab of the service instance that you created on IBM Cloud. \n",
    "\n",
    "If you cannot see the **instance_id** field in **Service Credentials**, click **New credential (+)** to generate new authentication information. \n",
    "\n",
    "**Action**: Enter your Watson Machine Learning service instance credentials here."
   ]
  },
  {
   "cell_type": "code",
   "execution_count": 25,
   "metadata": {},
   "outputs": [],
   "source": [
    "wml_credentials={\n",
    "  \"url\": \"https://ibm-watson-ml.mybluemix.net\",\n",
    "  \"username\": \"ad02bdee-1526-4813-9180-f5906e021656\",\n",
    "  \"password\": \"c46fdf43-1ae7-4b44-8483-b3b4702183e0\",\n",
    "  \"instance_id\": \"45c8ab27-1720-46a0-8ec7-75d59af433e4\"\n",
    "}"
   ]
  },
  {
   "cell_type": "code",
   "execution_count": 26,
   "metadata": {},
   "outputs": [],
   "source": [
    "client = WatsonMachineLearningAPIClient(wml_credentials)"
   ]
  },
  {
   "cell_type": "markdown",
   "metadata": {},
   "source": [
    "### 4.2 Save the pipeline and model<a id=\"save\"></a>"
   ]
  },
  {
   "cell_type": "markdown",
   "metadata": {},
   "source": [
    "In this subsection you will learn how to save pipeline and model artifacts to your Watson Machine Learning instance."
   ]
  },
  {
   "cell_type": "code",
   "execution_count": 27,
   "metadata": {},
   "outputs": [],
   "source": [
    "published_model_details = client.repository.store_model(model=model_rf, meta_props={client.repository.ModelMetaNames.NAME:'Customer Churn Prediction model'}, training_data=train_data, pipeline=pipeline_rf)"
   ]
  },
  {
   "cell_type": "code",
   "execution_count": 28,
   "metadata": {},
   "outputs": [
    {
     "name": "stdout",
     "output_type": "stream",
     "text": [
      "2ab5d69f-9689-4358-8d4e-8adfefc3e133\n"
     ]
    }
   ],
   "source": [
    "model_uid = client.repository.get_model_uid(published_model_details)\n",
    "print(model_uid)"
   ]
  },
  {
   "cell_type": "markdown",
   "metadata": {},
   "source": [
    "Get saved model metadata from Watson Machine Learning."
   ]
  },
  {
   "cell_type": "markdown",
   "metadata": {},
   "source": [
    "**Tip**: Use `client.repository.ModelMetaNames.show()` to get the list of available props."
   ]
  },
  {
   "cell_type": "code",
   "execution_count": 29,
   "metadata": {},
   "outputs": [
    {
     "name": "stdout",
     "output_type": "stream",
     "text": [
      "-----------------------  ----  --------\n",
      "META_PROP NAME           TYPE  REQUIRED\n",
      "NAME                     str   Y\n",
      "DESCRIPTION              str   N\n",
      "AUTHOR_NAME              str   N\n",
      "FRAMEWORK_NAME           str   N\n",
      "FRAMEWORK_VERSION        str   N\n",
      "FRAMEWORK_LIBRARIES      list  N\n",
      "RUNTIME_NAME             str   N\n",
      "RUNTIME_VERSION          str   N\n",
      "TRAINING_DATA_REFERENCE  dict  N\n",
      "EVALUATION_METHOD        str   N\n",
      "EVALUATION_METRICS       list  N\n",
      "OUTPUT_DATA_SCHEMA       dict  N\n",
      "LABEL_FIELD              str   N\n",
      "TRANSFORMED_LABEL_FIELD  str   N\n",
      "RUNTIME_UID              str   N\n",
      "TRAINING_DEFINITION_URL  str   N\n",
      "-----------------------  ----  --------\n"
     ]
    }
   ],
   "source": [
    "client.repository.ModelMetaNames.show()"
   ]
  },
  {
   "cell_type": "code",
   "execution_count": 30,
   "metadata": {
    "scrolled": true
   },
   "outputs": [
    {
     "name": "stdout",
     "output_type": "stream",
     "text": [
      "{'entity': {'latest_version': {'url': 'https://us-south.ml.cloud.ibm.com/v3/ml_assets/models/2ab5d69f-9689-4358-8d4e-8adfefc3e133/versions/05b0e51e-326d-41d7-aaa5-eacc9c58edfa', 'guid': '05b0e51e-326d-41d7-aaa5-eacc9c58edfa', 'created_at': '2018-09-21T03:46:26.178Z'}, 'learning_iterations_url': 'https://us-south.ml.cloud.ibm.com/v3/wml_instances/45c8ab27-1720-46a0-8ec7-75d59af433e4/published_models/2ab5d69f-9689-4358-8d4e-8adfefc3e133/learning_iterations', 'output_data_schema': {'fields': [{'name': 'ID', 'type': 'integer', 'nullable': True, 'metadata': {}}, {'name': 'Gender', 'type': 'string', 'nullable': True, 'metadata': {}}, {'name': 'Status', 'type': 'string', 'nullable': True, 'metadata': {}}, {'name': 'EstIncome', 'type': 'double', 'nullable': True, 'metadata': {}}, {'name': 'Age', 'type': 'integer', 'nullable': True, 'metadata': {}}, {'name': 'LocalBilltype', 'type': 'string', 'nullable': True, 'metadata': {}}, {'name': 'LongDistanceBilltype', 'type': 'string', 'nullable': True, 'metadata': {}}, {'name': 'Usage', 'type': 'double', 'nullable': True, 'metadata': {}}], 'type': 'struct'}, 'label_col': 'CHURN', 'name': 'Customer Churn Prediction model', 'input_data_schema': {'fields': [{'name': 'ID', 'type': 'integer', 'nullable': True, 'metadata': {}}, {'name': 'Gender', 'type': 'string', 'nullable': True, 'metadata': {}}, {'name': 'Status', 'type': 'string', 'nullable': True, 'metadata': {}}, {'name': 'EstIncome', 'type': 'double', 'nullable': True, 'metadata': {}}, {'name': 'Age', 'type': 'integer', 'nullable': True, 'metadata': {}}, {'name': 'LocalBilltype', 'type': 'string', 'nullable': True, 'metadata': {}}, {'name': 'LongDistanceBilltype', 'type': 'string', 'nullable': True, 'metadata': {}}, {'name': 'Usage', 'type': 'double', 'nullable': True, 'metadata': {}}], 'type': 'struct'}, 'tags': [], 'runtime_environment': 'spark-2.3', 'feedback_url': 'https://us-south.ml.cloud.ibm.com/v3/wml_instances/45c8ab27-1720-46a0-8ec7-75d59af433e4/published_models/2ab5d69f-9689-4358-8d4e-8adfefc3e133/feedback', 'model_type': 'mllib-2.3', 'training_data_schema': {'fields': [{'name': 'ID', 'type': 'integer', 'nullable': True, 'metadata': {}}, {'name': 'Gender', 'type': 'string', 'nullable': True, 'metadata': {}}, {'name': 'Status', 'type': 'string', 'nullable': True, 'metadata': {}}, {'name': 'EstIncome', 'type': 'double', 'nullable': True, 'metadata': {}}, {'name': 'Age', 'type': 'integer', 'nullable': True, 'metadata': {}}, {'name': 'LocalBilltype', 'type': 'string', 'nullable': True, 'metadata': {}}, {'name': 'LongDistanceBilltype', 'type': 'string', 'nullable': True, 'metadata': {}}, {'name': 'Usage', 'type': 'double', 'nullable': True, 'metadata': {}}, {'name': 'CHURN', 'type': 'string', 'nullable': True, 'metadata': {'modeling_role': 'target'}}], 'type': 'struct'}, 'evaluation_metrics_url': 'https://us-south.ml.cloud.ibm.com/v3/wml_instances/45c8ab27-1720-46a0-8ec7-75d59af433e4/published_models/2ab5d69f-9689-4358-8d4e-8adfefc3e133/evaluation_metrics', 'deployments': {'count': 0, 'url': 'https://us-south.ml.cloud.ibm.com/v3/wml_instances/45c8ab27-1720-46a0-8ec7-75d59af433e4/published_models/2ab5d69f-9689-4358-8d4e-8adfefc3e133/deployments'}, 'learning_configuration_url': 'https://us-south.ml.cloud.ibm.com/v3/wml_instances/45c8ab27-1720-46a0-8ec7-75d59af433e4/published_models/2ab5d69f-9689-4358-8d4e-8adfefc3e133/learning_configuration'}, 'metadata': {'url': 'https://us-south.ml.cloud.ibm.com/v3/wml_instances/45c8ab27-1720-46a0-8ec7-75d59af433e4/published_models/2ab5d69f-9689-4358-8d4e-8adfefc3e133', 'modified_at': '2018-09-21T03:46:26.178Z', 'guid': '2ab5d69f-9689-4358-8d4e-8adfefc3e133', 'created_at': '2018-09-21T03:46:26.126Z'}}\n"
     ]
    }
   ],
   "source": [
    "# You can get the metadata of stored model \n",
    "print(client.repository.get_model_details(model_uid))"
   ]
  },
  {
   "cell_type": "markdown",
   "metadata": {},
   "source": [
    "### 4.3 Load the model<a id=\"load\"></a>"
   ]
  },
  {
   "cell_type": "markdown",
   "metadata": {},
   "source": [
    "In this subsection you will learn how to load a saved model from a specified instance of Watson Machine Learning."
   ]
  },
  {
   "cell_type": "code",
   "execution_count": 31,
   "metadata": {},
   "outputs": [],
   "source": [
    "loaded_model = client.repository.load(model_uid)"
   ]
  },
  {
   "cell_type": "markdown",
   "metadata": {},
   "source": [
    "<a id=\"prediction\"></a>\n",
    "## 5. Predict locally "
   ]
  },
  {
   "cell_type": "markdown",
   "metadata": {},
   "source": [
    "In this section you will learn how to score test data using the loaded model and visualize the prediction results with the plotly package.\n",
    "\n",
    "- [5.1 Make a local prediction using previously loaded model and test data](#local)"
   ]
  },
  {
   "cell_type": "markdown",
   "metadata": {},
   "source": [
    "### 5.1 Make a local prediction using previously loaded model and test data<a id=\"local\"></a>"
   ]
  },
  {
   "cell_type": "markdown",
   "metadata": {},
   "source": [
    "In this subsection you will score the *predict_data* data set."
   ]
  },
  {
   "cell_type": "code",
   "execution_count": 32,
   "metadata": {},
   "outputs": [],
   "source": [
    "predictions = loaded_model.transform(predict_data)"
   ]
  },
  {
   "cell_type": "markdown",
   "metadata": {},
   "source": [
    "Preview the results by calling the *show()* method on the predictions DataFrame."
   ]
  },
  {
   "cell_type": "code",
   "execution_count": 34,
   "metadata": {},
   "outputs": [
    {
     "name": "stdout",
     "output_type": "stream",
     "text": [
      "+---+------+------+---------+---+-------------+--------------------+------+-----+-------------+-------------+--------------------+---------------------------+-----+--------------------+--------------------+--------------------+----------+--------------+\n",
      "| ID|Gender|Status|EstIncome|Age|LocalBilltype|LongDistanceBilltype| Usage|CHURN|GenderEncoded|StatusEncoded|LocalBilltypeEncoded|LongDistanceBilltypeEncoded|label|            features|       rawPrediction|         probability|prediction|predictedLabel|\n",
      "+---+------+------+---------+---+-------------+--------------------+------+-----+-------------+-------------+--------------------+---------------------------+-----+--------------------+--------------------+--------------------+----------+--------------+\n",
      "| 14|     F|     M|  52004.8| 25|       Budget|      Intnl_discount| 28.14|    T|          0.0|          0.0|                 0.0|                        1.0|  1.0|[0.0,0.0,0.0,1.0,...|[10.9841382434556...|[0.54920691217278...|       0.0|             F|\n",
      "| 18|     M|     M|  75004.5| 65|       Budget|      Intnl_discount| 58.72|    T|          1.0|          0.0|                 0.0|                        1.0|  1.0|[1.0,0.0,0.0,1.0,...|[13.5771998133523...|[0.67885999066761...|       0.0|             F|\n",
      "| 40|     F|     S|  28589.1| 16|    FreeLocal|            Standard|100.28|    T|          0.0|          1.0|                 1.0|                        0.0|  1.0|[0.0,1.0,1.0,0.0,...|[13.0055151294812...|[0.65027575647406...|       0.0|             F|\n",
      "| 52|     F|     M|  67388.0| 53|       Budget|            Standard| 96.33|    T|          0.0|          0.0|                 0.0|                        0.0|  1.0|(7,[4,5,6],[67388...|[10.1107023599720...|[0.50553511799860...|       0.0|             F|\n",
      "| 74|     M|     M|  39229.1| 26|       Budget|      Intnl_discount|  47.1|    T|          1.0|          0.0|                 0.0|                        1.0|  1.0|[1.0,0.0,0.0,1.0,...|[12.0328052958476...|[0.60164026479238...|       0.0|             F|\n",
      "+---+------+------+---------+---+-------------+--------------------+------+-----+-------------+-------------+--------------------+---------------------------+-----+--------------------+--------------------+--------------------+----------+--------------+\n",
      "only showing top 5 rows\n",
      "\n"
     ]
    }
   ],
   "source": [
    "predictions.show(5)"
   ]
  },
  {
   "cell_type": "code",
   "execution_count": 35,
   "metadata": {},
   "outputs": [
    {
     "data": {
      "text/html": [
       "<div>\n",
       "<style scoped>\n",
       "    .dataframe tbody tr th:only-of-type {\n",
       "        vertical-align: middle;\n",
       "    }\n",
       "\n",
       "    .dataframe tbody tr th {\n",
       "        vertical-align: top;\n",
       "    }\n",
       "\n",
       "    .dataframe thead th {\n",
       "        text-align: right;\n",
       "    }\n",
       "</style>\n",
       "<table border=\"1\" class=\"dataframe\">\n",
       "  <thead>\n",
       "    <tr style=\"text-align: right;\">\n",
       "      <th></th>\n",
       "      <th>ID</th>\n",
       "      <th>Gender</th>\n",
       "      <th>Status</th>\n",
       "      <th>EstIncome</th>\n",
       "      <th>Age</th>\n",
       "      <th>LocalBilltype</th>\n",
       "      <th>LongDistanceBilltype</th>\n",
       "      <th>Usage</th>\n",
       "      <th>CHURN</th>\n",
       "      <th>GenderEncoded</th>\n",
       "      <th>StatusEncoded</th>\n",
       "      <th>LocalBilltypeEncoded</th>\n",
       "      <th>LongDistanceBilltypeEncoded</th>\n",
       "      <th>label</th>\n",
       "      <th>features</th>\n",
       "      <th>rawPrediction</th>\n",
       "      <th>probability</th>\n",
       "      <th>prediction</th>\n",
       "      <th>predictedLabel</th>\n",
       "    </tr>\n",
       "  </thead>\n",
       "  <tbody>\n",
       "    <tr>\n",
       "      <th>0</th>\n",
       "      <td>14</td>\n",
       "      <td>F</td>\n",
       "      <td>M</td>\n",
       "      <td>52004.8</td>\n",
       "      <td>25</td>\n",
       "      <td>Budget</td>\n",
       "      <td>Intnl_discount</td>\n",
       "      <td>28.14</td>\n",
       "      <td>T</td>\n",
       "      <td>0.0</td>\n",
       "      <td>0.0</td>\n",
       "      <td>0.0</td>\n",
       "      <td>1.0</td>\n",
       "      <td>1.0</td>\n",
       "      <td>[0.0, 0.0, 0.0, 1.0, 52004.8, 25.0, 28.14]</td>\n",
       "      <td>[10.984138243455671, 9.01586175654433]</td>\n",
       "      <td>[0.5492069121727836, 0.4507930878272165]</td>\n",
       "      <td>0.0</td>\n",
       "      <td>F</td>\n",
       "    </tr>\n",
       "    <tr>\n",
       "      <th>1</th>\n",
       "      <td>18</td>\n",
       "      <td>M</td>\n",
       "      <td>M</td>\n",
       "      <td>75004.5</td>\n",
       "      <td>65</td>\n",
       "      <td>Budget</td>\n",
       "      <td>Intnl_discount</td>\n",
       "      <td>58.72</td>\n",
       "      <td>T</td>\n",
       "      <td>1.0</td>\n",
       "      <td>0.0</td>\n",
       "      <td>0.0</td>\n",
       "      <td>1.0</td>\n",
       "      <td>1.0</td>\n",
       "      <td>[1.0, 0.0, 0.0, 1.0, 75004.5, 65.0, 58.72]</td>\n",
       "      <td>[13.577199813352381, 6.422800186647619]</td>\n",
       "      <td>[0.678859990667619, 0.32114000933238096]</td>\n",
       "      <td>0.0</td>\n",
       "      <td>F</td>\n",
       "    </tr>\n",
       "    <tr>\n",
       "      <th>2</th>\n",
       "      <td>40</td>\n",
       "      <td>F</td>\n",
       "      <td>S</td>\n",
       "      <td>28589.1</td>\n",
       "      <td>16</td>\n",
       "      <td>FreeLocal</td>\n",
       "      <td>Standard</td>\n",
       "      <td>100.28</td>\n",
       "      <td>T</td>\n",
       "      <td>0.0</td>\n",
       "      <td>1.0</td>\n",
       "      <td>1.0</td>\n",
       "      <td>0.0</td>\n",
       "      <td>1.0</td>\n",
       "      <td>[0.0, 1.0, 1.0, 0.0, 28589.1, 16.0, 100.28]</td>\n",
       "      <td>[13.005515129481282, 6.99448487051872]</td>\n",
       "      <td>[0.6502757564740641, 0.349724243525936]</td>\n",
       "      <td>0.0</td>\n",
       "      <td>F</td>\n",
       "    </tr>\n",
       "    <tr>\n",
       "      <th>3</th>\n",
       "      <td>52</td>\n",
       "      <td>F</td>\n",
       "      <td>M</td>\n",
       "      <td>67388.0</td>\n",
       "      <td>53</td>\n",
       "      <td>Budget</td>\n",
       "      <td>Standard</td>\n",
       "      <td>96.33</td>\n",
       "      <td>T</td>\n",
       "      <td>0.0</td>\n",
       "      <td>0.0</td>\n",
       "      <td>0.0</td>\n",
       "      <td>0.0</td>\n",
       "      <td>1.0</td>\n",
       "      <td>(0.0, 0.0, 0.0, 0.0, 67388.0, 53.0, 96.33)</td>\n",
       "      <td>[10.110702359972008, 9.889297640027992]</td>\n",
       "      <td>[0.5055351179986004, 0.4944648820013996]</td>\n",
       "      <td>0.0</td>\n",
       "      <td>F</td>\n",
       "    </tr>\n",
       "    <tr>\n",
       "      <th>4</th>\n",
       "      <td>74</td>\n",
       "      <td>M</td>\n",
       "      <td>M</td>\n",
       "      <td>39229.1</td>\n",
       "      <td>26</td>\n",
       "      <td>Budget</td>\n",
       "      <td>Intnl_discount</td>\n",
       "      <td>47.10</td>\n",
       "      <td>T</td>\n",
       "      <td>1.0</td>\n",
       "      <td>0.0</td>\n",
       "      <td>0.0</td>\n",
       "      <td>1.0</td>\n",
       "      <td>1.0</td>\n",
       "      <td>[1.0, 0.0, 0.0, 1.0, 39229.1, 26.0, 47.1]</td>\n",
       "      <td>[12.032805295847611, 7.967194704152391]</td>\n",
       "      <td>[0.6016402647923805, 0.3983597352076195]</td>\n",
       "      <td>0.0</td>\n",
       "      <td>F</td>\n",
       "    </tr>\n",
       "    <tr>\n",
       "      <th>5</th>\n",
       "      <td>89</td>\n",
       "      <td>F</td>\n",
       "      <td>S</td>\n",
       "      <td>38280.0</td>\n",
       "      <td>34</td>\n",
       "      <td>FreeLocal</td>\n",
       "      <td>Intnl_discount</td>\n",
       "      <td>86.61</td>\n",
       "      <td>T</td>\n",
       "      <td>0.0</td>\n",
       "      <td>1.0</td>\n",
       "      <td>1.0</td>\n",
       "      <td>1.0</td>\n",
       "      <td>1.0</td>\n",
       "      <td>[0.0, 1.0, 1.0, 1.0, 38280.0, 34.0, 86.61]</td>\n",
       "      <td>[9.41976358934997, 10.58023641065003]</td>\n",
       "      <td>[0.4709881794674985, 0.5290118205325015]</td>\n",
       "      <td>1.0</td>\n",
       "      <td>T</td>\n",
       "    </tr>\n",
       "  </tbody>\n",
       "</table>\n",
       "</div>"
      ],
      "text/plain": [
       "   ID Gender Status  EstIncome  Age LocalBilltype LongDistanceBilltype  \\\n",
       "0  14      F      M    52004.8   25        Budget       Intnl_discount   \n",
       "1  18      M      M    75004.5   65        Budget       Intnl_discount   \n",
       "2  40      F      S    28589.1   16     FreeLocal             Standard   \n",
       "3  52      F      M    67388.0   53        Budget             Standard   \n",
       "4  74      M      M    39229.1   26        Budget       Intnl_discount   \n",
       "5  89      F      S    38280.0   34     FreeLocal       Intnl_discount   \n",
       "\n",
       "    Usage CHURN  GenderEncoded  StatusEncoded  LocalBilltypeEncoded  \\\n",
       "0   28.14     T            0.0            0.0                   0.0   \n",
       "1   58.72     T            1.0            0.0                   0.0   \n",
       "2  100.28     T            0.0            1.0                   1.0   \n",
       "3   96.33     T            0.0            0.0                   0.0   \n",
       "4   47.10     T            1.0            0.0                   0.0   \n",
       "5   86.61     T            0.0            1.0                   1.0   \n",
       "\n",
       "   LongDistanceBilltypeEncoded  label  \\\n",
       "0                          1.0    1.0   \n",
       "1                          1.0    1.0   \n",
       "2                          0.0    1.0   \n",
       "3                          0.0    1.0   \n",
       "4                          1.0    1.0   \n",
       "5                          1.0    1.0   \n",
       "\n",
       "                                      features  \\\n",
       "0   [0.0, 0.0, 0.0, 1.0, 52004.8, 25.0, 28.14]   \n",
       "1   [1.0, 0.0, 0.0, 1.0, 75004.5, 65.0, 58.72]   \n",
       "2  [0.0, 1.0, 1.0, 0.0, 28589.1, 16.0, 100.28]   \n",
       "3   (0.0, 0.0, 0.0, 0.0, 67388.0, 53.0, 96.33)   \n",
       "4    [1.0, 0.0, 0.0, 1.0, 39229.1, 26.0, 47.1]   \n",
       "5   [0.0, 1.0, 1.0, 1.0, 38280.0, 34.0, 86.61]   \n",
       "\n",
       "                             rawPrediction  \\\n",
       "0   [10.984138243455671, 9.01586175654433]   \n",
       "1  [13.577199813352381, 6.422800186647619]   \n",
       "2   [13.005515129481282, 6.99448487051872]   \n",
       "3  [10.110702359972008, 9.889297640027992]   \n",
       "4  [12.032805295847611, 7.967194704152391]   \n",
       "5    [9.41976358934997, 10.58023641065003]   \n",
       "\n",
       "                                probability  prediction predictedLabel  \n",
       "0  [0.5492069121727836, 0.4507930878272165]         0.0              F  \n",
       "1  [0.678859990667619, 0.32114000933238096]         0.0              F  \n",
       "2   [0.6502757564740641, 0.349724243525936]         0.0              F  \n",
       "3  [0.5055351179986004, 0.4944648820013996]         0.0              F  \n",
       "4  [0.6016402647923805, 0.3983597352076195]         0.0              F  \n",
       "5  [0.4709881794674985, 0.5290118205325015]         1.0              T  "
      ]
     },
     "execution_count": 35,
     "metadata": {},
     "output_type": "execute_result"
    }
   ],
   "source": [
    "# Converting to Pandas data\n",
    "predictions.toPandas().head(6)"
   ]
  },
  {
   "cell_type": "markdown",
   "metadata": {},
   "source": [
    "By tabulating a count, you can see which product line is the most popular."
   ]
  },
  {
   "cell_type": "code",
   "execution_count": 36,
   "metadata": {},
   "outputs": [
    {
     "name": "stdout",
     "output_type": "stream",
     "text": [
      "+--------------+-----+\n",
      "|predictedLabel|count|\n",
      "+--------------+-----+\n",
      "|F             |185  |\n",
      "|T             |43   |\n",
      "+--------------+-----+\n",
      "\n"
     ]
    }
   ],
   "source": [
    "predictions.select(\"predictedLabel\").groupBy(\"predictedLabel\").count().show(truncate=False)"
   ]
  },
  {
   "cell_type": "markdown",
   "metadata": {},
   "source": [
    "<a id=\"scoring\"></a>\n",
    "## 6. Deploy and score in a Cloud"
   ]
  },
  {
   "cell_type": "markdown",
   "metadata": {},
   "source": [
    "In this section you will learn how to create online scoring and to score a new data record using the `watson-machine-learning-client`."
   ]
  },
  {
   "cell_type": "markdown",
   "metadata": {},
   "source": [
    "**Note:** You can also use the REST API to deploy and score.\n",
    "For more information about REST APIs, see the [Swagger Documentation](http://watson-ml-api.mybluemix.net/)."
   ]
  },
  {
   "cell_type": "markdown",
   "metadata": {},
   "source": [
    "#### Create online deployment for published model."
   ]
  },
  {
   "cell_type": "code",
   "execution_count": 37,
   "metadata": {},
   "outputs": [
    {
     "name": "stdout",
     "output_type": "stream",
     "text": [
      "\n",
      "\n",
      "#######################################################################################\n",
      "\n",
      "Synchronous deployment creation for uid: '2ab5d69f-9689-4358-8d4e-8adfefc3e133' started\n",
      "\n",
      "#######################################################################################\n",
      "\n",
      "\n",
      "INITIALIZING\n",
      "DEPLOY_SUCCESS\n",
      "\n",
      "\n",
      "------------------------------------------------------------------------------------------------\n",
      "Successfully finished deployment creation, deployment_uid='6a6319ad-6de2-42f2-b082-1dc82de9309c'\n",
      "------------------------------------------------------------------------------------------------\n",
      "\n",
      "\n"
     ]
    }
   ],
   "source": [
    "deployment_details = client.deployments.create(model_uid, name='Customer Churn Risk Model Deployment')"
   ]
  },
  {
   "cell_type": "markdown",
   "metadata": {},
   "source": [
    "#### Create an online scoring endpoint. "
   ]
  },
  {
   "cell_type": "code",
   "execution_count": 38,
   "metadata": {},
   "outputs": [
    {
     "name": "stdout",
     "output_type": "stream",
     "text": [
      "https://ibm-watson-ml.mybluemix.net/v3/wml_instances/45c8ab27-1720-46a0-8ec7-75d59af433e4/deployments/6a6319ad-6de2-42f2-b082-1dc82de9309c/online\n"
     ]
    }
   ],
   "source": [
    "scoring_url = client.deployments.get_scoring_url(deployment_details)\n",
    "print(scoring_url)"
   ]
  },
  {
   "cell_type": "markdown",
   "metadata": {},
   "source": [
    "Now, you can send new scoring records (new data) for which you would like to get predictions. To do that, run the following sample code: "
   ]
  },
  {
   "cell_type": "code",
   "execution_count": 39,
   "metadata": {},
   "outputs": [
    {
     "data": {
      "text/plain": [
       "{'fields': ['GENDER',\n",
       "  'STATUS',\n",
       "  'EstIncome',\n",
       "  'Age',\n",
       "  'LOCALBILLTYPE',\n",
       "  'LONGDISTANCEBILLTYPE',\n",
       "  'Usage',\n",
       "  'GenderEncoded',\n",
       "  'StatusEncoded',\n",
       "  'LocalBilltypeEncoded',\n",
       "  'LongDistanceBilltypeEncoded',\n",
       "  'features',\n",
       "  'rawPrediction',\n",
       "  'probability',\n",
       "  'prediction',\n",
       "  'predictedLabel'],\n",
       " 'values': [['M',\n",
       "   'S',\n",
       "   25000.33,\n",
       "   23,\n",
       "   'Budget',\n",
       "   'Standard',\n",
       "   100.0,\n",
       "   1.0,\n",
       "   1.0,\n",
       "   0.0,\n",
       "   0.0,\n",
       "   [1.0, 1.0, 0.0, 0.0, 25000.33, 23.0, 100.0],\n",
       "   [14.901902807271412, 5.098097192728589],\n",
       "   [0.7450951403635706, 0.25490485963642945],\n",
       "   0.0,\n",
       "   'F']]}"
      ]
     },
     "execution_count": 39,
     "metadata": {},
     "output_type": "execute_result"
    }
   ],
   "source": [
    "payload_scoring = {\"fields\": [\"GENDER\",\"STATUS\",\"EstIncome\",\"Age\", \"LOCALBILLTYPE\", \"LONGDISTANCEBILLTYPE\", \"Usage\", \\\n",
    "                              \"GenderEncoded\", \"StatusEncoded\", \"LocalBilltypeEncoded\", \"LongDistanceBilltypeEncoded\"], \\\n",
    "                   \"values\": \\\n",
    "                             [[\"M\",\"S\", 25000.33, 23,\"Budget\", \"Standard\", 100, 1.0, 1.0, 0.0, 0.0]]}\n",
    "\n",
    "client.deployments.score(scoring_url, payload_scoring)"
   ]
  },
  {
   "cell_type": "markdown",
   "metadata": {},
   "source": [
    "As you can see we predict that the 23 year old male who is single with estmated income AUD25000.33 who is currently on \\'Budget\\' local bill type and \\'Standard\\' long distance bill type with AUD100 usage is about 66\\% not likely to churn. "
   ]
  },
  {
   "cell_type": "markdown",
   "metadata": {
    "collapsed": true
   },
   "source": [
    "<a id=\"summary\"></a>\n",
    "## 7. Summary and next steps     "
   ]
  },
  {
   "cell_type": "markdown",
   "metadata": {
    "collapsed": true
   },
   "source": [
    "You successfully completed this notebook! \n",
    " \n",
    "You learned how to use Apache Spark machine learning as well as Watson Machine Learning for model creation and deployment. \n",
    " \n",
    "Check out our [Online Documentation](https://dataplatform.ibm.com/docs/content/analyze-data/wml-setup.html) for more samples, tutorials, documentation, how-tos, and blog posts. "
   ]
  },
  {
   "cell_type": "markdown",
   "metadata": {},
   "source": [
    "Copyright © 2017, 2018 IBM. This notebook and its source code are released under the terms of the MIT License."
   ]
  },
  {
   "cell_type": "markdown",
   "metadata": {},
   "source": [
    "<div style=\"background:#F5F7FA; height:110px; padding: 2em; font-size:14px;\">\n",
    "<span style=\"font-size:18px;color:#152935;\">Love this notebook? </span>\n",
    "<span style=\"font-size:15px;color:#152935;float:right;margin-right:40px;\">Don't have an account yet?</span><br>\n",
    "<span style=\"color:#5A6872;\">Share it with your colleagues and help them discover the power of Watson Studio!</span>\n",
    "<span style=\"border: 1px solid #3d70b2;padding:8px;float:right;margin-right:40px; color:#3d70b2;\"><a href=\"https://ibm.co/wsnotebooks\" target=\"_blank\" style=\"color: #3d70b2;text-decoration: none;\">Sign Up</a></span><br>\n",
    "</div>"
   ]
  }
 ],
 "metadata": {
  "kernelspec": {
   "display_name": "Python 3.5 with Spark",
   "language": "python3",
   "name": "python3"
  },
  "language_info": {
   "codemirror_mode": {
    "name": "ipython",
    "version": 3
   },
   "file_extension": ".py",
   "mimetype": "text/x-python",
   "name": "python",
   "nbconvert_exporter": "python",
   "pygments_lexer": "ipython3",
   "version": "3.5.4"
  }
 },
 "nbformat": 4,
 "nbformat_minor": 1
}
